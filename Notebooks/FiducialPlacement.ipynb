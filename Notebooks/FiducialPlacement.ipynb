{
 "cells": [
  {
   "cell_type": "code",
   "execution_count": 9,
   "metadata": {},
   "outputs": [
    {
     "data": {
      "text/plain": []
     },
     "execution_count": 9,
     "metadata": {},
     "output_type": "execute_result"
    }
   ],
   "source": [
    "from local_vars import root_folder\n",
    "import os \n",
    "import numpy as np\n",
    "\n",
    "data_folder = \"SkullScan1_Images\"\n",
    "input_sequence_name = \"SkullScan_1\"\n",
    "\n",
    "data_name = \"segmentations.npy\"\n",
    "output_markups_name = \"F\""
   ]
  },
  {
   "cell_type": "code",
   "execution_count": 10,
   "metadata": {},
   "outputs": [
    {
     "data": {
      "text/plain": []
     },
     "execution_count": 10,
     "metadata": {},
     "output_type": "execute_result"
    }
   ],
   "source": [
    "data_fullpath = os.path.join(root_folder, data_folder)\n",
    "segmentations_fullname = os.path.join(data_fullpath, data_name)\n",
    "\n",
    "segmentations = np.load(segmentations_fullname)\n",
    "\n",
    "input_sequence = slicer.util.getFirstNodeByName(input_sequence_name, className=\"vtkMRMLSequenceBrowserNode\")\n",
    "transform_node = slicer.util.getFirstNodeByName(\"ImageToReference\", className=\"vtkMRMLTransformNode\")"
   ]
  },
  {
   "cell_type": "code",
   "execution_count": 12,
   "metadata": {},
   "outputs": [
    {
     "data": {
      "text/plain": []
     },
     "execution_count": 12,
     "metadata": {},
     "output_type": "execute_result"
    }
   ],
   "source": [
    "input_image_size = segmentations.shape[1]\n",
    "\n",
    "for j in range(input_image_size):\n",
    "    for k in range(input_image_size):\n",
    "        pixel_x_coord = 0\n",
    "        pixel_y_coord = 0\n",
    "    "
   ]
  },
  {
   "cell_type": "code",
   "execution_count": 4,
   "metadata": {},
   "outputs": [
    {
     "data": {
      "text/plain": []
     },
     "execution_count": 4,
     "metadata": {},
     "output_type": "execute_result"
    }
   ],
   "source": [
    "output_markups = slicer.util.getFirstNodeByName(output_markups_name, className=\"vtkMRMLMarkupsFiducialNode\")\n",
    "\n",
    "for point in point_list:\n",
    "    output_markups.AddFiducial(point[0],point[1],point[2])"
   ]
  },
  {
   "cell_type": "code",
   "execution_count": null,
   "metadata": {},
   "outputs": [],
   "source": []
  }
 ],
 "metadata": {
  "kernelspec": {
   "display_name": "Slicer 4.10",
   "language": "python",
   "name": "slicer-4.10"
  },
  "language_info": {
   "codemirror_mode": {
    "name": "ipython",
    "version": 3
   },
   "file_extension": ".py",
   "mimetype": "text/x-python",
   "name": "python",
   "nbconvert_exporter": "python",
   "pygments_lexer": "ipython3",
   "version": "2.7.13+"
  }
 },
 "nbformat": 4,
 "nbformat_minor": 2
}
