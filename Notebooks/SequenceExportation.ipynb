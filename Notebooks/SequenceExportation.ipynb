{
 "cells": [
  {
   "cell_type": "code",
   "execution_count": 13,
   "metadata": {},
   "outputs": [
    {
     "data": {
      "text/plain": [
       "Created folder: A:\\PerkLab\\SkullRegistration\\Data\\SkullScan1_Images\n",
       "Export data to: A:\\PerkLab\\SkullRegistration\\Data\\SkullScan1_Images\n"
      ]
     },
     "execution_count": 13,
     "metadata": {},
     "output_type": "execute_result"
    }
   ],
   "source": [
    "input_sequence_name = \"SkullScan_1\"\n",
    "image_name = \"Image_Image\"\n",
    "export_folder = \"SkullScan1_Images\"\n",
    "filename_prefix = \"SkullScan1\"\n",
    "\n",
    "from local_vars import root_folder\n",
    "import os\n",
    "import numpy as np\n",
    "\n",
    "export_fullpath = os.path.join(root_folder, export_folder)\n",
    "\n",
    "if not os.path.exists(export_fullpath):\n",
    "    os.makedirs(export_fullpath)\n",
    "    print(\"Created folder: \" + export_fullpath)\n",
    "\n",
    "print \"Export data to: \" + export_fullpath"
   ]
  },
  {
   "cell_type": "code",
   "execution_count": 14,
   "metadata": {},
   "outputs": [
    {
     "data": {
      "text/plain": [
       "Number of images: 3672\n"
      ]
     },
     "execution_count": 14,
     "metadata": {},
     "output_type": "execute_result"
    }
   ],
   "source": [
    "input_sequence = slicer.util.getFirstNodeByName(input_sequence_name, className=\"vtkMRMLSequenceBrowserNode\")\n",
    "image_node = slicer.util.getFirstNodeByName(image_name, className=\"vtkMRMLScalarVolumeNode\")\n",
    "\n",
    "n = input_sequence.GetNumberOfItems()\n",
    "print \"Number of images: \" + str(n)"
   ]
  },
  {
   "cell_type": "code",
   "execution_count": 15,
   "metadata": {},
   "outputs": [
    {
     "data": {
      "text/plain": []
     },
     "execution_count": 15,
     "metadata": {},
     "output_type": "execute_result"
    }
   ],
   "source": [
    "ic = vtk.vtkImageCast()\n",
    "ic.SetOutputScalarTypeToUnsignedChar()\n",
    "ic.Update()\n",
    "\n",
    "png_writer = vtk.vtkPNGWriter()\n",
    "\n",
    "for i in range(n):\n",
    "    input_image = image_node.GetImageData()\n",
    "\n",
    "    img_file_name = filename_prefix + \"_%04d_ultrasound\" % i + \".png\"\n",
    "    img_fullname = os.path.join(export_fullpath, img_file_name)\n",
    "\n",
    "    ic.SetInputData(input_image)\n",
    "    ic.Update()\n",
    "    png_writer.SetInputData(ic.GetOutput())\n",
    "    png_writer.SetFileName(img_fullname)\n",
    "    png_writer.Update()\n",
    "    png_writer.Write()\n",
    "\n",
    "    input_sequence.SelectNextItem()"
   ]
  },
  {
   "cell_type": "code",
   "execution_count": null,
   "metadata": {},
   "outputs": [],
   "source": []
  }
 ],
 "metadata": {
  "kernelspec": {
   "display_name": "Slicer 4.10",
   "language": "python",
   "name": "slicer-4.10"
  },
  "language_info": {
   "codemirror_mode": {
    "name": "ipython",
    "version": 3
   },
   "file_extension": ".py",
   "mimetype": "text/x-python",
   "name": "python",
   "nbconvert_exporter": "python",
   "pygments_lexer": "ipython3",
   "version": "2.7.13+"
  }
 },
 "nbformat": 4,
 "nbformat_minor": 2
}
