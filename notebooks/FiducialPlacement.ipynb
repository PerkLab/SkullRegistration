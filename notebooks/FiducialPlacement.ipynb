{
 "cells": [
  {
   "cell_type": "code",
   "execution_count": 33,
   "metadata": {},
   "outputs": [
    {
     "data": {
      "text/plain": []
     },
     "execution_count": 33,
     "metadata": {},
     "output_type": "execute_result"
    }
   ],
   "source": [
    "from local_vars import test_folder\n",
    "import os \n",
    "import numpy as np\n",
    "\n",
    "data_folder = \"SkullScan2_Images\"\n",
    "input_sequence_name = \"SkullScan2\"\n",
    "image_name = \"Image_Image\"\n",
    "data_name = \"segmentations.npy\"\n",
    "output_markups_name = \"F\"\n",
    "minimum_distance = 10 #in millimeters\n",
    "segmentation_threshold = 0.8"
   ]
  },
  {
   "cell_type": "code",
   "execution_count": 34,
   "metadata": {},
   "outputs": [
    {
     "data": {
      "text/plain": [
       "SkullScan2_Images\n"
      ]
     },
     "execution_count": 34,
     "metadata": {},
     "output_type": "execute_result"
    }
   ],
   "source": [
    "data_fullpath = os.path.join(test_folder, data_folder)\n",
    "segmentations_fullname = os.path.join(data_fullpath, data_name)\n",
    "\n",
    "segmentations = np.load(segmentations_fullname)\n",
    "print(data_folder)"
   ]
  },
  {
   "cell_type": "code",
   "execution_count": 35,
   "metadata": {},
   "outputs": [
    {
     "data": {
      "text/plain": []
     },
     "execution_count": 35,
     "metadata": {},
     "output_type": "execute_result"
    }
   ],
   "source": [
    "input_sequence = slicer.util.getFirstNodeByName(input_sequence_name, className=\"vtkMRMLSequenceBrowserNode\")\n",
    "image_node = slicer.util.getFirstNodeByName(image_name, className=\"vtkMRMLScalarVolumeNode\")\n",
    "transform_node = slicer.util.getFirstNodeByName(\"ImageToReference\", className=\"vtkMRMLTransformNode\")\n",
    "output_markups = slicer.util.getFirstNodeByName(output_markups_name, className=\"vtkMRMLMarkupsFiducialNode\")"
   ]
  },
  {
   "cell_type": "code",
   "execution_count": 47,
   "metadata": {},
   "outputs": [
    {
     "data": {
      "text/plain": [
       "5348\n"
      ]
     },
     "execution_count": 47,
     "metadata": {},
     "output_type": "execute_result"
    }
   ],
   "source": [
    "input_image_size = segmentations.shape[1]\n",
    "n = input_sequence.GetNumberOfItems()\n",
    "\n",
    "#based on assumption that the US image is square\n",
    "bounds = [0,0,0,0,0,0]\n",
    "image_node.GetBounds(bounds)\n",
    "us_image_size = bounds[1]-bounds[0]\n",
    "\n",
    "step_size = input_image_size / us_image_size\n",
    "\n",
    "point_list = []\n",
    "\n",
    "for i in range(n):\n",
    "    if  sum(sum(segmentations[i])) >= segmentation_threshold:#check to ensure there is at least one valid possible point\n",
    "        testpoint = np.matrix([[500],[177],[0],[1]])\n",
    "\n",
    "        point = np.matrix([[0],[0],[0],[1]])\n",
    "\n",
    "        transform = transform_node.GetMatrixTransformToParent()\n",
    "        transform_matrix = np.matrix([[transform.GetElement(0,0),transform.GetElement(0,1),transform.GetElement(0,2),transform.GetElement(0,3)],\n",
    "                                     [transform.GetElement(1,0),transform.GetElement(1,1),transform.GetElement(1,2),transform.GetElement(1,3)],\n",
    "                                     [transform.GetElement(2,0),transform.GetElement(2,1),transform.GetElement(2,2),transform.GetElement(2,3)],\n",
    "                                     [transform.GetElement(3,0),transform.GetElement(3,1),transform.GetElement(3,2),transform.GetElement(3,3)]])\n",
    "\n",
    "        previous_point = []\n",
    "\n",
    "        for j in range(input_image_size):\n",
    "            \n",
    "            max_indicies = np.where(segmentations[i,:,j] == max(segmentations[i,:,j]))[0]\n",
    "            max_index = max_indicies[-1]\n",
    "            \n",
    "            if segmentations[i,max_index,j] >= segmentation_threshold:                \n",
    "                point[0] = j*step_size\n",
    "\n",
    "                #need to check for proper us ultrasound orientation?\n",
    "                point[1] = 511 - max_index*step_size #this is for if images are upside down\n",
    "\n",
    "                transformed_point = np.dot(transform_matrix,point)\n",
    "\n",
    "                if previous_point == []:\n",
    "                    previous_point = transformed_point\n",
    "                    point_list.append(transformed_point) \n",
    "                else:\n",
    "                    dist = np.linalg.norm(transformed_point-previous_point)\n",
    "\n",
    "                    if dist >= minimum_distance:\n",
    "                        point_list.append(transformed_point)\n",
    "                        previous_point = transformed_point            \n",
    "\n",
    "    input_sequence.SelectNextItem()  \n",
    "    \n",
    "print(len(point_list))"
   ]
  },
  {
   "cell_type": "code",
   "execution_count": 42,
   "metadata": {},
   "outputs": [
    {
     "data": {
      "text/plain": []
     },
     "execution_count": 42,
     "metadata": {},
     "output_type": "execute_result"
    }
   ],
   "source": [
    "#for testing purposes\n",
    "for point in point_list:\n",
    "    output_markups.AddFiducial(point[0],point[1],point[2])"
   ]
  },
  {
   "cell_type": "code",
   "execution_count": 48,
   "metadata": {},
   "outputs": [
    {
     "data": {
      "text/plain": [
       "25\n"
      ]
     },
     "execution_count": 48,
     "metadata": {},
     "output_type": "execute_result"
    }
   ],
   "source": [
    "#np.random.shuffle(point_list)\n",
    "\n",
    "marker_points = []\n",
    "\n",
    "marker_points.append(point_list[0])\n",
    "num_marker_points = 1\n",
    "\n",
    "for target_point in point_list[1:]:\n",
    "    too_close = False\n",
    "    marker_point_index = 0\n",
    "    \n",
    "    while not(too_close) and marker_point_index < (num_marker_points):\n",
    "        dist = np.linalg.norm(target_point-marker_points[marker_point_index])\n",
    "\n",
    "        if dist < minimum_distance:\n",
    "            too_close = True\n",
    "        marker_point_index += 1\n",
    "            \n",
    "    if not(too_close):\n",
    "        marker_points.append(target_point)\n",
    "        num_marker_points += 1\n",
    "        \n",
    "print(num_marker_points)        "
   ]
  },
  {
   "cell_type": "code",
   "execution_count": 45,
   "metadata": {},
   "outputs": [
    {
     "data": {
      "text/plain": []
     },
     "execution_count": 45,
     "metadata": {},
     "output_type": "execute_result"
    }
   ],
   "source": [
    "output_markups = slicer.util.getFirstNodeByName(output_markups_name, className=\"vtkMRMLMarkupsFiducialNode\")\n",
    "\n",
    "for point in marker_points:\n",
    "    output_markups.AddFiducial(point[0],point[1],point[2])"
   ]
  },
  {
   "cell_type": "code",
   "execution_count": null,
   "metadata": {},
   "outputs": [],
   "source": []
  }
 ],
 "metadata": {
  "kernelspec": {
   "display_name": "Slicer 4.10",
   "language": "python",
   "name": "slicer-4.10"
  },
  "language_info": {
   "codemirror_mode": {
    "name": "ipython",
    "version": 3
   },
   "file_extension": ".py",
   "mimetype": "text/x-python",
   "name": "python",
   "nbconvert_exporter": "python",
   "pygments_lexer": "ipython3",
   "version": "2.7.13+"
  }
 },
 "nbformat": 4,
 "nbformat_minor": 2
}
