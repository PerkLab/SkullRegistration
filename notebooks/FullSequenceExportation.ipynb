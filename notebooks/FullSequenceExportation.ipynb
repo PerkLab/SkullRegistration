{
 "cells": [
  {
   "cell_type": "code",
   "execution_count": 1,
   "metadata": {},
   "outputs": [
    {
     "data": {
      "text/plain": [
       "Created folder: C:\\\\Users\\\\14ams18\\\\Documents\\SkullScan9_Images\n",
       "Export data to: C:\\\\Users\\\\14ams18\\\\Documents\\SkullScan9_Images\n"
      ]
     },
     "execution_count": 1,
     "metadata": {},
     "output_type": "execute_result"
    }
   ],
   "source": [
    "input_sequence_name = \"Surface_Registration\"\n",
    "image_name = \"Image_Image\"\n",
    "export_folder = \"SkullScan9_Images\"\n",
    "filename_prefix = \"SkullScan9\"\n",
    "\n",
    "from local_vars import test_folder\n",
    "import os\n",
    "import numpy as np\n",
    "\n",
    "export_fullpath = os.path.join(test_folder, export_folder)\n",
    "\n",
    "if not os.path.exists(export_fullpath):\n",
    "    os.makedirs(export_fullpath)\n",
    "    print(\"Created folder: \" + export_fullpath)\n",
    "\n",
    "print \"Export data to: \" + export_fullpath"
   ]
  },
  {
   "cell_type": "code",
   "execution_count": 2,
   "metadata": {},
   "outputs": [
    {
     "data": {
      "text/plain": [
       "Number of images: 1666\n"
      ]
     },
     "execution_count": 2,
     "metadata": {},
     "output_type": "execute_result"
    }
   ],
   "source": [
    "input_sequence = slicer.util.getFirstNodeByName(input_sequence_name, className=\"vtkMRMLSequenceBrowserNode\")\n",
    "image_node = slicer.util.getFirstNodeByName(image_name, className=\"vtkMRMLScalarVolumeNode\")\n",
    "\n",
    "n = input_sequence.GetNumberOfItems()\n",
    "print \"Number of images: \" + str(n)"
   ]
  },
  {
   "cell_type": "code",
   "execution_count": 3,
   "metadata": {},
   "outputs": [
    {
     "data": {
      "text/plain": []
     },
     "execution_count": 3,
     "metadata": {},
     "output_type": "execute_result"
    }
   ],
   "source": [
    "ic = vtk.vtkImageCast()\n",
    "ic.SetOutputScalarTypeToUnsignedChar()\n",
    "ic.Update()\n",
    "\n",
    "png_writer = vtk.vtkPNGWriter()\n",
    "\n",
    "for i in range(n):\n",
    "    input_image = image_node.GetImageData()\n",
    "\n",
    "    img_file_name = filename_prefix + \"_%04d_ultrasound\" % i + \".png\"\n",
    "    img_fullname = os.path.join(export_fullpath, img_file_name)\n",
    "\n",
    "    ic.SetInputData(input_image)\n",
    "    ic.Update()\n",
    "    png_writer.SetInputData(ic.GetOutput())\n",
    "    png_writer.SetFileName(img_fullname)\n",
    "    png_writer.Update()\n",
    "    png_writer.Write()\n",
    "\n",
    "    input_sequence.SelectNextItem()"
   ]
  },
  {
   "cell_type": "code",
   "execution_count": null,
   "metadata": {},
   "outputs": [],
   "source": []
  }
 ],
 "metadata": {
  "kernelspec": {
   "display_name": "Slicer 4.10",
   "language": "python",
   "name": "slicer-4.10"
  },
  "language_info": {
   "codemirror_mode": {
    "name": "ipython",
    "version": 3
   },
   "file_extension": ".py",
   "mimetype": "text/x-python",
   "name": "python",
   "nbconvert_exporter": "python",
   "pygments_lexer": "ipython3",
   "version": "2.7.13+"
  }
 },
 "nbformat": 4,
 "nbformat_minor": 2
}
